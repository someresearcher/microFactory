{
 "cells": [
  {
   "cell_type": "code",
   "execution_count": 59,
   "metadata": {},
   "outputs": [],
   "source": [
    "from kubernetes import client, config\n",
    "import subprocess\n",
    "import json \n",
    "from datetime import datetime\n",
    "import threading\n",
    "\n",
    "import csv   \n",
    "\n",
    "fields=['timestamp', 'pod','cpu','memory', 'window']\n",
    "\n",
    "# ['usage'] \n",
    "\n",
    "def getMetrics(name):\n",
    "    result = subprocess.run(['kubectl', 'get', '--raw', '/apis/metrics.k8s.io/v1beta1/namespaces/sim/pods/' + name], stdout=subprocess.PIPE)\n",
    "    metric = json.loads(result.stdout)\n",
    "    return metric['containers'][0]\n",
    "\n",
    "class StoppableThread(threading.Thread):\n",
    "    \"\"\"Thread class with a stop() method. The thread itself has to check\n",
    "    regularly for the stopped() condition.\"\"\"\n",
    "\n",
    "    def __init__(self):\n",
    "        super(StoppableThread, self).__init__()\n",
    "        self._stop_event = threading.Event()\n",
    "\n",
    "    def stop(self):\n",
    "        self._stop_event.set()\n",
    "\n",
    "    def stopped(self):\n",
    "        return self._stop_event.is_set()\n",
    "\n",
    "class CollectionThread(StoppableThread):\n",
    "\n",
    "    def __init__(self, performanceFile):\n",
    "        super().__init__()\n",
    "        self.performanceFile = performanceFile\n",
    "\n",
    "\n",
    "    def run(self):\n",
    "        # Configs can be set in Configuration class directly or using helper utility\n",
    "        config.load_kube_config()\n",
    "\n",
    "        v1 = client.CoreV1Api()\n",
    "        ret = v1.list_pod_for_all_namespaces(watch=False)\n",
    "\n",
    "        with open(self.performanceFile, 'w') as f:\n",
    "            writer = csv.writer(f)\n",
    "            writer.writerow(fields)\n",
    "            while not self.stopped():\n",
    "                timestamp = datetime.now()\n",
    "                for i in ret.items:\n",
    "                    if (i.metadata.namespace == \"sim\"):\n",
    "                        m = getMetrics(i.metadata.name)\n",
    "                        writer.writerow([timestamp, i.metadata.name, int(m['usage']['cpu'][:-1]), int(m['usage']['memory'][:-2]), 0])\n",
    "            print(\"stopped\")"
   ]
  },
  {
   "cell_type": "code",
   "execution_count": 60,
   "metadata": {},
   "outputs": [
    {
     "name": "stderr",
     "output_type": "stream",
     "text": [
      "WARNING: package sun.awt.X11 not in java.desktop\n"
     ]
    },
    {
     "name": "stdout",
     "output_type": "stream",
     "text": [
      "Creating summariser <summary>\n",
      "Created the tree successfully using jmeterRun.jmx\n",
      "Starting standalone test @ Thu Jul 21 14:38:26 CEST 2022 (1658407106403)\n",
      "Waiting for possible Shutdown/StopTestNow/HeapDump/ThreadDump message on port 4445\n",
      "summary +    101 in 00:00:04 =   28.3/s Avg:   111 Min:     0 Max:   306 Err:     0 (0.00%) Active: 8 Started: 8 Finished: 0\n",
      "summary +   2157 in 00:00:30 =   71.9/s Avg:   256 Min:     0 Max:  1733 Err:     2 (0.09%) Active: 21 Started: 21 Finished: 0\n",
      "summary =   2258 in 00:00:34 =   67.2/s Avg:   249 Min:     0 Max:  1733 Err:     2 (0.09%)\n",
      "summary +   1855 in 00:00:30 =   61.8/s Avg:   223 Min:     0 Max: 11653 Err:    11 (0.59%) Active: 21 Started: 21 Finished: 0\n",
      "summary =   4113 in 00:01:04 =   64.7/s Avg:   237 Min:     0 Max: 11653 Err:    13 (0.32%)\n",
      "summary +   3234 in 00:00:30 =  107.8/s Avg:   242 Min:     0 Max: 19517 Err:    10 (0.31%) Active: 20 Started: 21 Finished: 1\n",
      "summary =   7347 in 00:01:34 =   78.5/s Avg:   239 Min:     0 Max: 19517 Err:    23 (0.31%)\n",
      "summary +   2621 in 00:00:30 =   87.3/s Avg:   229 Min:    99 Max:   884 Err:     1 (0.04%) Active: 20 Started: 21 Finished: 1\n",
      "summary =   9968 in 00:02:04 =   80.7/s Avg:   237 Min:     0 Max: 19517 Err:    24 (0.24%)\n",
      "summary +   1549 in 00:00:26 =   58.5/s Avg:   221 Min:    95 Max:  1504 Err:     4 (0.26%) Active: 0 Started: 21 Finished: 21\n",
      "summary =  11517 in 00:02:30 =   76.8/s Avg:   235 Min:     0 Max: 19517 Err:    28 (0.24%)\n",
      "Tidying up ...    @ Thu Jul 21 14:40:56 CEST 2022 (1658407256480)\n",
      "... end of run\n"
     ]
    }
   ],
   "source": [
    "import threading\n",
    "import time\n",
    "import os\n",
    "import shutil\n",
    "\n",
    "output = \"numberOfServicesNoWork\"\n",
    "version = \"v1\"\n",
    "\n",
    "outputDir = os.path.join(output, version)\n",
    "\n",
    "if not os.path.exists(outputDir):\n",
    "    os.mkdir(outputDir)\n",
    "\n",
    "performanceFile = os.path.join(outputDir, 'podPerformance.csv')\n",
    "resultFile = os.path.join(outputDir, 'result.jtl')\n",
    "\n",
    "if os.path.exists(performanceFile):\n",
    "    os.remove(performanceFile)\n",
    "\n",
    "if os.path.exists(resultFile):\n",
    "    os.remove(resultFile) \n",
    "\n",
    "\n",
    "collection_thread = CollectionThread(performanceFile)\n",
    "collection_thread.start()\n",
    "\n",
    "\n",
    "subprocess.run(['jmeter', '-n', '-t', 'jmeterRun.jmx', '-f', '-l', resultFile])\n",
    "\n",
    "collection_thread.stop()"
   ]
  }
 ],
 "metadata": {
  "kernelspec": {
   "display_name": "Python 3.9.13 64-bit",
   "language": "python",
   "name": "python3"
  },
  "language_info": {
   "codemirror_mode": {
    "name": "ipython",
    "version": 3
   },
   "file_extension": ".py",
   "mimetype": "text/x-python",
   "name": "python",
   "nbconvert_exporter": "python",
   "pygments_lexer": "ipython3",
   "version": "3.9.13"
  },
  "orig_nbformat": 4,
  "vscode": {
   "interpreter": {
    "hash": "b0fa6594d8f4cbf19f97940f81e996739fb7646882a419484c72d19e05852a7e"
   }
  }
 },
 "nbformat": 4,
 "nbformat_minor": 2
}
