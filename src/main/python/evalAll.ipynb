{
 "cells": [
  {
   "cell_type": "code",
   "execution_count": 60,
   "metadata": {},
   "outputs": [],
   "source": [
    "import pandas as pd\n",
    "\n",
    "folder = './numberOfServicesNoWorkAll/v'\n",
    "\n",
    "#folder = '../ftgo/multiple/v'\n",
    "#resFolder = \"/res\"\n",
    "\n",
    "#transactionLabels = [\"getDeliveryNotification\", \"itemviewer_getMenu\"]\n",
    "\n",
    "transactionLabels = [\"AMQP Consumer\", \"getItem\"]\n",
    "\n",
    "def loadMetrics(version):\n",
    "    metrics = pd.read_excel(folder + str(version) + '/metricsorderNumberOfServicesnoWork_V' + str(version) + '.xlsx', 1)\n",
    "\n",
    "    metrics = metrics.rename(columns={'Unnamed: 0': \"metric\"})\n",
    "    return metrics\n",
    "\n",
    "def getTransactions(version):\n",
    "\n",
    "    transactions = pd.read_csv(folder + str(version)  +'/result.jtl')\n",
    "\n",
    "    transactions['timeStamp'] = pd.to_datetime(transactions['timeStamp'], unit='ms')\n",
    "\n",
    "    dict = {}\n",
    "\n",
    "    for label in transactionLabels:\n",
    "        tmp = transactions.loc[transactions['label'] == label]\n",
    "\n",
    "        tmp = tmp[tmp['success'] == True]\n",
    "        \n",
    "\n",
    "        startEnd = tmp.iloc[[0, -1]]\n",
    "\n",
    "\n",
    "        duration = startEnd.iloc[1]['timeStamp'] - startEnd.iloc[0]['timeStamp']\n",
    "\n",
    "        dict[label] =  len(tmp) / duration.seconds #[len(tmp) / duration.seconds]\n",
    "\n",
    "    dict['combined'] = 0 \n",
    "    for label in transactionLabels:\n",
    "        dict['combined'] += dict[label]\n",
    "\n",
    "    dict['combined'] = dict['combined'] / len(transactionLabels)\n",
    "\n",
    "    dict[\"notifyClientOfDelivery\"] = dict.pop(\"AMQP Consumer\")\n",
    "\n",
    "    return dict\n",
    "\n",
    "def combineThroughput(versions):\n",
    "\n",
    "    res = pd.DataFrame()\n",
    "\n",
    "    for version in versions:\n",
    "        p = getTransactions(version)\n",
    "\n",
    "        frame = pd.DataFrame.from_dict(p, orient='index',\n",
    "                       columns=['V' + str(version)])\n",
    "\n",
    "        res = pd.concat([res, frame], axis=1)\n",
    "\n",
    "    return res\n",
    "\n",
    "def combinePerformance(versions):\n",
    "    allSeries = []\n",
    "    for version in versions:\n",
    "        perf = pd.read_csv('./results/v' + str(version) + '/podPerformance.csv')\n",
    "\n",
    "        perf['timestamp'] = pd.to_datetime(perf['timestamp'])\n",
    "\n",
    "        pivotedPerf = perf.pivot(index='timestamp', columns='pod', values='cpu')\n",
    "\n",
    "        cpuStd = pivotedPerf.mean().std()\n",
    "\n",
    "        res = pd.Series()\n",
    "        res['cpu (std)'] = cpuStd / 10000000\n",
    "        res['memory (mean)'] = perf['memory'].mean() / 100000\n",
    "        res['memory (std)'] = perf['memory'].std() / 100000\n",
    "\n",
    "        allSeries.append(res.rename(\"V\" + str(version)))\n",
    "    \n",
    "    return pd.concat(allSeries, axis=1)\n",
    "\n",
    "def combineMetrics(versions):\n",
    "    df = pd.DataFrame()\n",
    "\n",
    "    for version in versions:\n",
    "        m = loadMetrics(version)\n",
    "\n",
    "        df['metric'] = m['metric']\n",
    "\n",
    "        df3 = m[['menu','orderFood']].mean(axis=1)\n",
    "\n",
    "        df['V' + str(version)] = df3\n",
    "\n",
    "    return df\n"
   ]
  },
  {
   "cell_type": "code",
   "execution_count": 61,
   "metadata": {},
   "outputs": [],
   "source": [
    "versionsToView = [1,2,3]"
   ]
  },
  {
   "cell_type": "code",
   "execution_count": 62,
   "metadata": {},
   "outputs": [
    {
     "data": {
      "text/html": [
       "<div>\n",
       "<style scoped>\n",
       "    .dataframe tbody tr th:only-of-type {\n",
       "        vertical-align: middle;\n",
       "    }\n",
       "\n",
       "    .dataframe tbody tr th {\n",
       "        vertical-align: top;\n",
       "    }\n",
       "\n",
       "    .dataframe thead th {\n",
       "        text-align: right;\n",
       "    }\n",
       "</style>\n",
       "<table border=\"1\" class=\"dataframe\">\n",
       "  <thead>\n",
       "    <tr style=\"text-align: right;\">\n",
       "      <th></th>\n",
       "      <th>V1</th>\n",
       "      <th>V2</th>\n",
       "      <th>V3</th>\n",
       "    </tr>\n",
       "  </thead>\n",
       "  <tbody>\n",
       "    <tr>\n",
       "      <th>getItem</th>\n",
       "      <td>16.641892</td>\n",
       "      <td>19.527027</td>\n",
       "      <td>25.601351</td>\n",
       "    </tr>\n",
       "    <tr>\n",
       "      <th>combined</th>\n",
       "      <td>16.815328</td>\n",
       "      <td>20.280559</td>\n",
       "      <td>26.300676</td>\n",
       "    </tr>\n",
       "    <tr>\n",
       "      <th>notifyClientOfDelivery</th>\n",
       "      <td>16.988764</td>\n",
       "      <td>21.034091</td>\n",
       "      <td>27.000000</td>\n",
       "    </tr>\n",
       "  </tbody>\n",
       "</table>\n",
       "</div>"
      ],
      "text/plain": [
       "                               V1         V2         V3\n",
       "getItem                 16.641892  19.527027  25.601351\n",
       "combined                16.815328  20.280559  26.300676\n",
       "notifyClientOfDelivery  16.988764  21.034091  27.000000"
      ]
     },
     "execution_count": 62,
     "metadata": {},
     "output_type": "execute_result"
    }
   ],
   "source": [
    "combineThroughput(versionsToView)"
   ]
  },
  {
   "cell_type": "code",
   "execution_count": 63,
   "metadata": {},
   "outputs": [
    {
     "name": "stderr",
     "output_type": "stream",
     "text": [
      "/var/folders/vs/yq8ljrx54cq1p65m2qkgffhh0000gn/T/ipykernel_7791/1106173913.py:74: FutureWarning: The default dtype for empty Series will be 'object' instead of 'float64' in a future version. Specify a dtype explicitly to silence this warning.\n",
      "  res = pd.Series()\n",
      "/var/folders/vs/yq8ljrx54cq1p65m2qkgffhh0000gn/T/ipykernel_7791/1106173913.py:74: FutureWarning: The default dtype for empty Series will be 'object' instead of 'float64' in a future version. Specify a dtype explicitly to silence this warning.\n",
      "  res = pd.Series()\n",
      "/var/folders/vs/yq8ljrx54cq1p65m2qkgffhh0000gn/T/ipykernel_7791/1106173913.py:74: FutureWarning: The default dtype for empty Series will be 'object' instead of 'float64' in a future version. Specify a dtype explicitly to silence this warning.\n",
      "  res = pd.Series()\n"
     ]
    },
    {
     "data": {
      "text/html": [
       "<div>\n",
       "<style scoped>\n",
       "    .dataframe tbody tr th:only-of-type {\n",
       "        vertical-align: middle;\n",
       "    }\n",
       "\n",
       "    .dataframe tbody tr th {\n",
       "        vertical-align: top;\n",
       "    }\n",
       "\n",
       "    .dataframe thead th {\n",
       "        text-align: right;\n",
       "    }\n",
       "</style>\n",
       "<table border=\"1\" class=\"dataframe\">\n",
       "  <thead>\n",
       "    <tr style=\"text-align: right;\">\n",
       "      <th></th>\n",
       "      <th>V1</th>\n",
       "      <th>V2</th>\n",
       "      <th>V3</th>\n",
       "    </tr>\n",
       "  </thead>\n",
       "  <tbody>\n",
       "    <tr>\n",
       "      <th>cpu (std)</th>\n",
       "      <td>8.227048</td>\n",
       "      <td>6.736303</td>\n",
       "      <td>8.330783</td>\n",
       "    </tr>\n",
       "    <tr>\n",
       "      <th>memory (mean)</th>\n",
       "      <td>1.506554</td>\n",
       "      <td>1.515813</td>\n",
       "      <td>1.526011</td>\n",
       "    </tr>\n",
       "    <tr>\n",
       "      <th>memory (std)</th>\n",
       "      <td>0.217980</td>\n",
       "      <td>0.190589</td>\n",
       "      <td>0.189284</td>\n",
       "    </tr>\n",
       "  </tbody>\n",
       "</table>\n",
       "</div>"
      ],
      "text/plain": [
       "                     V1        V2        V3\n",
       "cpu (std)      8.227048  6.736303  8.330783\n",
       "memory (mean)  1.506554  1.515813  1.526011\n",
       "memory (std)   0.217980  0.190589  0.189284"
      ]
     },
     "execution_count": 63,
     "metadata": {},
     "output_type": "execute_result"
    }
   ],
   "source": [
    "combinePerformance(versionsToView)\n"
   ]
  },
  {
   "cell_type": "code",
   "execution_count": 64,
   "metadata": {},
   "outputs": [
    {
     "name": "stderr",
     "output_type": "stream",
     "text": [
      "/var/folders/vs/yq8ljrx54cq1p65m2qkgffhh0000gn/T/ipykernel_7791/1106173913.py:74: FutureWarning: The default dtype for empty Series will be 'object' instead of 'float64' in a future version. Specify a dtype explicitly to silence this warning.\n",
      "  res = pd.Series()\n",
      "/var/folders/vs/yq8ljrx54cq1p65m2qkgffhh0000gn/T/ipykernel_7791/1106173913.py:74: FutureWarning: The default dtype for empty Series will be 'object' instead of 'float64' in a future version. Specify a dtype explicitly to silence this warning.\n",
      "  res = pd.Series()\n",
      "/var/folders/vs/yq8ljrx54cq1p65m2qkgffhh0000gn/T/ipykernel_7791/1106173913.py:74: FutureWarning: The default dtype for empty Series will be 'object' instead of 'float64' in a future version. Specify a dtype explicitly to silence this warning.\n",
      "  res = pd.Series()\n",
      "/opt/homebrew/lib/python3.9/site-packages/openpyxl/styles/stylesheet.py:226: UserWarning: Workbook contains no default style, apply openpyxl's default\n",
      "  warn(\"Workbook contains no default style, apply openpyxl's default\")\n",
      "/opt/homebrew/lib/python3.9/site-packages/openpyxl/styles/stylesheet.py:226: UserWarning: Workbook contains no default style, apply openpyxl's default\n",
      "  warn(\"Workbook contains no default style, apply openpyxl's default\")\n",
      "/opt/homebrew/lib/python3.9/site-packages/openpyxl/styles/stylesheet.py:226: UserWarning: Workbook contains no default style, apply openpyxl's default\n",
      "  warn(\"Workbook contains no default style, apply openpyxl's default\")\n"
     ]
    },
    {
     "data": {
      "text/plain": [
       "Text(0.5, 0, 'Throughput/Metric Value')"
      ]
     },
     "execution_count": 64,
     "metadata": {},
     "output_type": "execute_result"
    },
    {
     "data": {
      "image/png": "[encoded data removed]",
      "text/plain": [
       "<Figure size 1152x576 with 1 Axes>"
      ]
     },
     "metadata": {},
     "output_type": "display_data"
    }
   ],
   "source": [
    "throughput = combineThroughput(versionsToView)\n",
    "\n",
    "throughput = throughput.reset_index()\n",
    "throughput = throughput.rename(columns={\"index\": \"metric\"})\n",
    "\n",
    "performance = combinePerformance(versionsToView)\n",
    "performance['metric'] = performance.index\n",
    "\n",
    "combined = pd.concat([throughput, performance, combineMetrics(versionsToView)]).reset_index(drop=True)\n",
    "\n",
    "combined = combined.iloc[[0,1,2,25]]\n",
    "\n",
    "ax = combined.plot.barh(x='metric', figsize=(16,8), fontsize=30)\n",
    "y_axis = ax.axes.set_ylabel(None)\n",
    "\n",
    "ax.set_xlabel(\"Throughput/Metric Value\",fontdict={'fontsize':30})"
   ]
  },
  {
   "cell_type": "code",
   "execution_count": 65,
   "metadata": {},
   "outputs": [
    {
     "ename": "KeyError",
     "evalue": "'[21, 22] not in index'",
     "output_type": "error",
     "traceback": [
      "\u001b[0;31m---------------------------------------------------------------------------\u001b[0m",
      "\u001b[0;31mKeyError\u001b[0m                                  Traceback (most recent call last)",
      "\u001b[1;32m/Users/niels/Documents/Master/results/Runs/runs/evalAll.ipynb Cell 6\u001b[0m in \u001b[0;36m<cell line: 5>\u001b[0;34m()\u001b[0m\n\u001b[1;32m      <a href='vscode-notebook-cell:/Users/niels/Documents/Master/results/Runs/runs/evalAll.ipynb#W5sZmlsZQ%3D%3D?line=0'>1</a>\u001b[0m \u001b[39mimport\u001b[39;00m \u001b[39mseaborn\u001b[39;00m \u001b[39mas\u001b[39;00m \u001b[39msns\u001b[39;00m\n\u001b[1;32m      <a href='vscode-notebook-cell:/Users/niels/Documents/Master/results/Runs/runs/evalAll.ipynb#W5sZmlsZQ%3D%3D?line=2'>3</a>\u001b[0m temp \u001b[39m=\u001b[39m combined\u001b[39m.\u001b[39mT \u001b[39m#.plot.bar(x='metric', figsize=(16,8))\u001b[39;00m\n\u001b[0;32m----> <a href='vscode-notebook-cell:/Users/niels/Documents/Master/results/Runs/runs/evalAll.ipynb#W5sZmlsZQ%3D%3D?line=4'>5</a>\u001b[0m temp \u001b[39m=\u001b[39m temp[[\u001b[39m2\u001b[39;49m,\u001b[39m21\u001b[39;49m,\u001b[39m22\u001b[39;49m]]\n\u001b[1;32m      <a href='vscode-notebook-cell:/Users/niels/Documents/Master/results/Runs/runs/evalAll.ipynb#W5sZmlsZQ%3D%3D?line=6'>7</a>\u001b[0m new_header \u001b[39m=\u001b[39m temp\u001b[39m.\u001b[39miloc[\u001b[39m0\u001b[39m] \u001b[39m#grab the first row for the header\u001b[39;00m\n\u001b[1;32m      <a href='vscode-notebook-cell:/Users/niels/Documents/Master/results/Runs/runs/evalAll.ipynb#W5sZmlsZQ%3D%3D?line=7'>8</a>\u001b[0m temp \u001b[39m=\u001b[39m temp[\u001b[39m1\u001b[39m:] \u001b[39m#take the data less the header row\u001b[39;00m\n",
      "File \u001b[0;32m/opt/homebrew/lib/python3.9/site-packages/pandas/core/frame.py:3511\u001b[0m, in \u001b[0;36mDataFrame.__getitem__\u001b[0;34m(self, key)\u001b[0m\n\u001b[1;32m   3509\u001b[0m     \u001b[39mif\u001b[39;00m is_iterator(key):\n\u001b[1;32m   3510\u001b[0m         key \u001b[39m=\u001b[39m \u001b[39mlist\u001b[39m(key)\n\u001b[0;32m-> 3511\u001b[0m     indexer \u001b[39m=\u001b[39m \u001b[39mself\u001b[39;49m\u001b[39m.\u001b[39;49mcolumns\u001b[39m.\u001b[39;49m_get_indexer_strict(key, \u001b[39m\"\u001b[39;49m\u001b[39mcolumns\u001b[39;49m\u001b[39m\"\u001b[39;49m)[\u001b[39m1\u001b[39m]\n\u001b[1;32m   3513\u001b[0m \u001b[39m# take() does not accept boolean indexers\u001b[39;00m\n\u001b[1;32m   3514\u001b[0m \u001b[39mif\u001b[39;00m \u001b[39mgetattr\u001b[39m(indexer, \u001b[39m\"\u001b[39m\u001b[39mdtype\u001b[39m\u001b[39m\"\u001b[39m, \u001b[39mNone\u001b[39;00m) \u001b[39m==\u001b[39m \u001b[39mbool\u001b[39m:\n",
      "File \u001b[0;32m/opt/homebrew/lib/python3.9/site-packages/pandas/core/indexes/base.py:5782\u001b[0m, in \u001b[0;36mIndex._get_indexer_strict\u001b[0;34m(self, key, axis_name)\u001b[0m\n\u001b[1;32m   5779\u001b[0m \u001b[39melse\u001b[39;00m:\n\u001b[1;32m   5780\u001b[0m     keyarr, indexer, new_indexer \u001b[39m=\u001b[39m \u001b[39mself\u001b[39m\u001b[39m.\u001b[39m_reindex_non_unique(keyarr)\n\u001b[0;32m-> 5782\u001b[0m \u001b[39mself\u001b[39;49m\u001b[39m.\u001b[39;49m_raise_if_missing(keyarr, indexer, axis_name)\n\u001b[1;32m   5784\u001b[0m keyarr \u001b[39m=\u001b[39m \u001b[39mself\u001b[39m\u001b[39m.\u001b[39mtake(indexer)\n\u001b[1;32m   5785\u001b[0m \u001b[39mif\u001b[39;00m \u001b[39misinstance\u001b[39m(key, Index):\n\u001b[1;32m   5786\u001b[0m     \u001b[39m# GH 42790 - Preserve name from an Index\u001b[39;00m\n",
      "File \u001b[0;32m/opt/homebrew/lib/python3.9/site-packages/pandas/core/indexes/base.py:5845\u001b[0m, in \u001b[0;36mIndex._raise_if_missing\u001b[0;34m(self, key, indexer, axis_name)\u001b[0m\n\u001b[1;32m   5842\u001b[0m     \u001b[39mraise\u001b[39;00m \u001b[39mKeyError\u001b[39;00m(\u001b[39mf\u001b[39m\u001b[39m\"\u001b[39m\u001b[39mNone of [\u001b[39m\u001b[39m{\u001b[39;00mkey\u001b[39m}\u001b[39;00m\u001b[39m] are in the [\u001b[39m\u001b[39m{\u001b[39;00maxis_name\u001b[39m}\u001b[39;00m\u001b[39m]\u001b[39m\u001b[39m\"\u001b[39m)\n\u001b[1;32m   5844\u001b[0m not_found \u001b[39m=\u001b[39m \u001b[39mlist\u001b[39m(ensure_index(key)[missing_mask\u001b[39m.\u001b[39mnonzero()[\u001b[39m0\u001b[39m]]\u001b[39m.\u001b[39munique())\n\u001b[0;32m-> 5845\u001b[0m \u001b[39mraise\u001b[39;00m \u001b[39mKeyError\u001b[39;00m(\u001b[39mf\u001b[39m\u001b[39m\"\u001b[39m\u001b[39m{\u001b[39;00mnot_found\u001b[39m}\u001b[39;00m\u001b[39m not in index\u001b[39m\u001b[39m\"\u001b[39m)\n",
      "\u001b[0;31mKeyError\u001b[0m: '[21, 22] not in index'"
     ]
    }
   ],
   "source": [
    "import seaborn as sns\n",
    "\n",
    "temp = combined.T #.plot.bar(x='metric', figsize=(16,8))\n",
    "\n",
    "temp = temp[[2,21,22]]\n",
    "\n",
    "new_header = temp.iloc[0] #grab the first row for the header\n",
    "temp = temp[1:] #take the data less the header row\n",
    "temp.columns = new_header #set the header row as the df header\n",
    "\n",
    "temp = temp.astype(float)\n",
    "\n",
    "normalized_df=(temp-temp.mean())/temp.std()\n",
    "\n",
    "# pearson kendall\n",
    "corr = normalized_df.corr(method='pearson')\n",
    "\n",
    "sns.set(rc={'figure.figsize':(11.7,8.27)})\n",
    "\n",
    "sns.heatmap(corr, \n",
    "        xticklabels=corr.columns,\n",
    "        yticklabels=corr.columns, annot=True)"
   ]
  }
 ],
 "metadata": {
  "kernelspec": {
   "display_name": "Python 3.9.13 64-bit",
   "language": "python",
   "name": "python3"
  },
  "language_info": {
   "codemirror_mode": {
    "name": "ipython",
    "version": 3
   },
   "file_extension": ".py",
   "mimetype": "text/x-python",
   "name": "python",
   "nbconvert_exporter": "python",
   "pygments_lexer": "ipython3",
   "version": "3.9.13"
  },
  "orig_nbformat": 4,
  "vscode": {
   "interpreter": {
    "hash": "b0fa6594d8f4cbf19f97940f81e996739fb7646882a419484c72d19e05852a7e"
   }
  }
 },
 "nbformat": 4,
 "nbformat_minor": 2
}
