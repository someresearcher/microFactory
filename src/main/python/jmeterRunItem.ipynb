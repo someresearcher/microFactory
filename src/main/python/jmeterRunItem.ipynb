{
 "cells": [
  {
   "cell_type": "code",
   "execution_count": 17,
   "metadata": {},
   "outputs": [],
   "source": [
    "from kubernetes import client, config\n",
    "import subprocess\n",
    "import json \n",
    "from datetime import datetime\n",
    "import threading\n",
    "\n",
    "import csv   \n",
    "\n",
    "fields=['timestamp', 'pod','cpu','memory', 'window']\n",
    "\n",
    "# ['usage'] \n",
    "\n",
    "def getMetrics(name):\n",
    "    result = subprocess.run(['kubectl', 'get', '--raw', '/apis/metrics.k8s.io/v1beta1/namespaces/sim/pods/' + name], stdout=subprocess.PIPE)\n",
    "    metric = json.loads(result.stdout)\n",
    "    return metric['containers'][0]\n",
    "\n",
    "class StoppableThread(threading.Thread):\n",
    "    \"\"\"Thread class with a stop() method. The thread itself has to check\n",
    "    regularly for the stopped() condition.\"\"\"\n",
    "\n",
    "    def __init__(self):\n",
    "        super(StoppableThread, self).__init__()\n",
    "        self._stop_event = threading.Event()\n",
    "\n",
    "    def stop(self):\n",
    "        self._stop_event.set()\n",
    "\n",
    "    def stopped(self):\n",
    "        return self._stop_event.is_set()\n",
    "\n",
    "class CollectionThread(StoppableThread):\n",
    "\n",
    "    def __init__(self, performanceFile):\n",
    "        super().__init__()\n",
    "        self.performanceFile = performanceFile\n",
    "\n",
    "\n",
    "    def run(self):\n",
    "        # Configs can be set in Configuration class directly or using helper utility\n",
    "        config.load_kube_config()\n",
    "\n",
    "        v1 = client.CoreV1Api()\n",
    "        ret = v1.list_pod_for_all_namespaces(watch=False)\n",
    "\n",
    "        with open(self.performanceFile, 'w') as f:\n",
    "            writer = csv.writer(f)\n",
    "            writer.writerow(fields)\n",
    "            while not self.stopped():\n",
    "                timestamp = datetime.now()\n",
    "                for i in ret.items:\n",
    "                    if (i.metadata.namespace == \"sim\"):\n",
    "                        m = getMetrics(i.metadata.name)\n",
    "                        writer.writerow([timestamp, i.metadata.name, int(m['usage']['cpu'][:-1]), int(m['usage']['memory'][:-2]), 0])\n",
    "            print(\"stopped\")"
   ]
  },
  {
   "cell_type": "code",
   "execution_count": 18,
   "metadata": {},
   "outputs": [
    {
     "name": "stderr",
     "output_type": "stream",
     "text": [
      "WARNING: package sun.awt.X11 not in java.desktop\n"
     ]
    },
    {
     "name": "stdout",
     "output_type": "stream",
     "text": [
      "Creating summariser <summary>\n",
      "Created the tree successfully using jmeterRunGetItem.jmx\n",
      "Starting standalone test @ Thu Jul 21 15:39:09 CEST 2022 (1658410749276)\n",
      "Waiting for possible Shutdown/StopTestNow/HeapDump/ThreadDump message on port 4445\n",
      "summary +    126 in 00:00:21 =    6.1/s Avg:  2232 Min:   288 Max:  6196 Err:     0 (0.00%) Active: 20 Started: 20 Finished: 0\n",
      "summary +    200 in 00:00:30 =    6.6/s Avg:  2850 Min:   579 Max:  6077 Err:     0 (0.00%) Active: 20 Started: 20 Finished: 0\n",
      "summary =    326 in 00:00:51 =    6.4/s Avg:  2611 Min:   288 Max:  6196 Err:     0 (0.00%)\n",
      "summary +    219 in 00:00:30 =    7.3/s Avg:  2823 Min:   576 Max:  6614 Err:     0 (0.00%) Active: 11 Started: 20 Finished: 9\n",
      "summary =    545 in 00:01:21 =    6.7/s Avg:  2696 Min:   288 Max:  6614 Err:     0 (0.00%)\n",
      "summary +     61 in 00:00:09 =    6.7/s Avg:   964 Min:   196 Max:  3086 Err:     0 (0.00%) Active: 0 Started: 20 Finished: 20\n",
      "summary =    606 in 00:01:30 =    6.7/s Avg:  2522 Min:   196 Max:  6614 Err:     0 (0.00%)\n",
      "Tidying up ...    @ Thu Jul 21 15:40:39 CEST 2022 (1658410839594)\n",
      "... end of run\n"
     ]
    }
   ],
   "source": [
    "import threading\n",
    "import time\n",
    "import os\n",
    "import shutil\n",
    "\n",
    "output = \"distributionOfWorkload\"\n",
    "version = \"v1\"\n",
    "\n",
    "outputDir = os.path.join(output, version)\n",
    "\n",
    "if not os.path.exists(outputDir):\n",
    "    os.mkdir(outputDir)\n",
    "\n",
    "performanceFile = os.path.join(outputDir, 'podPerformance.csv')\n",
    "resultFile = os.path.join(outputDir, 'result.jtl')\n",
    "\n",
    "if os.path.exists(performanceFile):\n",
    "    os.remove(performanceFile)\n",
    "\n",
    "if os.path.exists(resultFile):\n",
    "    os.remove(resultFile) \n",
    "\n",
    "\n",
    "collection_thread = CollectionThread(performanceFile)\n",
    "collection_thread.start()\n",
    "\n",
    "\n",
    "subprocess.run(['jmeter', '-n', '-t', 'jmeterRunGetItem.jmx', '-f', '-l', resultFile])\n",
    "\n",
    "collection_thread.stop()"
   ]
  },
  {
   "cell_type": "markdown",
   "metadata": {},
   "source": [
    "0 2 1 3 4 0 = std\n",
    "\n",
    "0 10 0 0 0 = std\n",
    "\n",
    "0 5 5 0 0 0 = std\n",
    "\n"
   ]
  },
  {
   "cell_type": "code",
   "execution_count": null,
   "metadata": {},
   "outputs": [],
   "source": []
  }
 ],
 "metadata": {
  "kernelspec": {
   "display_name": "Python 3.9.13 64-bit",
   "language": "python",
   "name": "python3"
  },
  "language_info": {
   "codemirror_mode": {
    "name": "ipython",
    "version": 3
   },
   "file_extension": ".py",
   "mimetype": "text/x-python",
   "name": "python",
   "nbconvert_exporter": "python",
   "pygments_lexer": "ipython3",
   "version": "3.9.13"
  },
  "orig_nbformat": 4,
  "vscode": {
   "interpreter": {
    "hash": "b0fa6594d8f4cbf19f97940f81e996739fb7646882a419484c72d19e05852a7e"
   }
  }
 },
 "nbformat": 4,
 "nbformat_minor": 2
}
